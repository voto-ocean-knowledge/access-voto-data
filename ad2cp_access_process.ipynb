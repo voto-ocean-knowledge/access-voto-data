{
 "cells": [
  {
   "cell_type": "code",
   "execution_count": null,
   "id": "41bb6fa8-093f-4da3-96b2-2f95f652302e",
   "metadata": {},
   "outputs": [],
   "source": [
    "import xarray as xr\n",
    "import requests\n",
    "import numpy as np\n",
    "import pandas as pd\n",
    "import matplotlib.pyplot as plt\n",
    "from gliderad2cp import process_currents, process_shear, process_bias, tools, download_example_data\n",
    "from pathlib import Path\n",
    "import cmocean.cm as cmo\n",
    "data_dir = Path(\"data/raw_voto\")\n",
    "if not data_dir.exists():\n",
    "    data_dir.mkdir(parents=True)"
   ]
  },
  {
   "cell_type": "markdown",
   "id": "31b78f21-d385-4d33-96e4-01274f03d318",
   "metadata": {},
   "source": [
    "### Select a mission\n",
    "\n",
    "You can explore out glider missions on the observations portal https://observations.voiceoftheocean.org/missions\n",
    "\n",
    "Make sure it's one that has ADCP data! See a list of available ADCP datasets here https://erddap.observations.voiceoftheocean.org/erddap/files/ad2cp/\n",
    "\n",
    "Or uncomment the last line in the cell below"
   ]
  },
  {
   "cell_type": "code",
   "execution_count": null,
   "id": "4ffd2b6d-441e-4883-8bfe-40421d6d83f4",
   "metadata": {},
   "outputs": [],
   "source": [
    "adcp_missions = pd.read_csv(\"https://erddap.observations.voiceoftheocean.org/erddap/tabledap/ad2cp.csvp\")\n",
    "adcp_missions[\"deployment_id\"] = adcp_missions[\"name\"].str.split('.', expand=True)[0]\n",
    "# print(adcp_missions[\"deployment_id\"].values) # uncomment to print available missions"
   ]
  },
  {
   "cell_type": "code",
   "execution_count": null,
   "id": "9f8704d1-7722-4a89-80d0-98c75d4bb5e1",
   "metadata": {},
   "outputs": [],
   "source": [
    "glider = \"SEA044\"\n",
    "mission = 106\n",
    "deployment_id = f\"{glider}_M{mission}\""
   ]
  },
  {
   "cell_type": "code",
   "execution_count": null,
   "id": "be341dae-c17e-4799-a4da-051a453eed39",
   "metadata": {},
   "outputs": [],
   "source": [
    "if not deployment_id in adcp_missions[\"deployment_id\"].values:\n",
    "    print(f\"ERROR: user speficified {deployment_id} not a valid deployement with ADCP data\")"
   ]
  },
  {
   "cell_type": "code",
   "execution_count": null,
   "id": "9544cef5-0c6c-4e05-9cf5-1ce96199ac4d",
   "metadata": {},
   "outputs": [],
   "source": [
    "url_glider = f\"https://erddap.observations.voiceoftheocean.org/erddap/files/delayed_{deployment_id}/mission_timeseries.nc\"\n",
    "url_ad2cp = f\"https://erddap.observations.voiceoftheocean.org/erddap/files/ad2cp/{deployment_id}.ad2cp.00000.nc\"\n",
    "data_file = data_dir / f\"{deployment_id}.nc\"\n",
    "adcp_file = data_dir / f\"{deployment_id}.ad2cp.00000.nc\""
   ]
  },
  {
   "cell_type": "code",
   "execution_count": null,
   "id": "aab5fe8c-f6ad-4ab7-9d9e-fa7a35c62800",
   "metadata": {},
   "outputs": [],
   "source": [
    "if not data_file.exists():\n",
    "    response_glider = requests.get(url_glider)\n",
    "    with open(data_file, \"wb\") as f:\n",
    "        f.write(response_glider.content)\n",
    "if not adcp_file.exists():\n",
    "    response_ad2cp = requests.get(url_ad2cp)\n",
    "    with open(adcp_file, \"wb\") as f:\n",
    "        f.write(response_ad2cp.content)"
   ]
  },
  {
   "cell_type": "markdown",
   "id": "2d39d719-4cf1-4476-978d-88db48f4dcb4",
   "metadata": {},
   "source": [
    "### Adjust processing options for gliderad2cp"
   ]
  },
  {
   "cell_type": "code",
   "execution_count": null,
   "id": "223eb3ff-281e-4809-ad2b-e4351248d30d",
   "metadata": {},
   "outputs": [],
   "source": [
    "options = tools.get_options(xaxis=3, yaxis=None, shear_bias_regression_depth_slice=(10,1000))"
   ]
  },
  {
   "cell_type": "markdown",
   "id": "b2223d8d-f9b8-443b-9ef3-1dc2c2f67a9b",
   "metadata": {},
   "source": [
    "### Process shear"
   ]
  },
  {
   "cell_type": "code",
   "execution_count": null,
   "id": "2628afef-2964-40d7-84ab-c2cc2833ad76",
   "metadata": {},
   "outputs": [],
   "source": [
    "ds_adcp = process_shear.process(str(adcp_file), data_file, options)"
   ]
  },
  {
   "cell_type": "markdown",
   "id": "5a524763-4bf4-4cca-9319-c62add692a23",
   "metadata": {},
   "source": [
    "### Get pre and post-dive GPS for DAC calculation"
   ]
  },
  {
   "cell_type": "code",
   "execution_count": null,
   "id": "31a671e4-e5ea-401a-a935-cf70c8f604a3",
   "metadata": {},
   "outputs": [],
   "source": [
    "data = xr.open_dataset(data_file)\n",
    "dead = data.dead_reckoning\n",
    "# Keep only data points with valid time, lon and lat\n",
    "lon_lat_time = ~np.isnan(data.time) * ~np.isnan(data.longitude) * ~np.isnan(data.latitude)\n",
    "dead = dead[lon_lat_time]\n",
    "sample_step = ((dead.time.max() - dead.time.min()) / len(dead)) / np.timedelta64(1, 's')\n",
    "target_step = 10  # target one sample every 10 seconds for the calculation of DAC. Coarsening speeds this up *a lot*\n",
    "subsample = max(1, int(target_step / sample_step))\n",
    "print(f\"subsampling dead reckoning data by a factor of {subsample} to match target sampling rate of {target_step} seconds during DAC caclulation\")\n",
    "dead = dead[::subsample]\n",
    "\n",
    "# dead reckoning 0 when lon/lat are from GPS fix. 1 when interpolated. Use the gradient of this to find\n",
    "# where the glider starts & ends surface GPS fixes\n",
    "dead_reckoning_post_change = dead[1:][dead.diff(dim='time') != 0]\n",
    "post_dive = dead_reckoning_post_change[dead_reckoning_post_change == 0]\n",
    "\n",
    "dead_reckoning_pre_change = dead[:-1][dead.diff(dim='time', label='lower') != 0]\n",
    "pre_dive = dead_reckoning_pre_change[dead_reckoning_pre_change == 0]\n",
    "\n",
    "# Cut out any predives after the last postdives and postdives before the first predive\n",
    "pre_dive = pre_dive[pre_dive.time < post_dive.time.max()]\n",
    "post_dive = post_dive[post_dive.time > pre_dive.time.min()]\n",
    "\n",
    "gps_predive = np.array([[time, lat, lon] for time, lat, lon in\n",
    "               zip(pre_dive.time.values, pre_dive.latitude.values, pre_dive.longitude.values)])\n",
    "gps_postdive = np.array([[time, lat, lon] for time, lat, lon in\n",
    "                zip(post_dive.time.values, post_dive.latitude.values, post_dive.longitude.values)])\n",
    "dive_time_hours = (post_dive.time.values - pre_dive.time.values) / np.timedelta64(1, 'h')\n",
    "assert (dive_time_hours > 0).all\n",
    "assert 24 > np.mean(dive_time_hours) > 0.5\n",
    "\n"
   ]
  },
  {
   "cell_type": "markdown",
   "id": "e17da01c-a877-48bf-9df9-b9a8bd1fdc4d",
   "metadata": {},
   "source": [
    "### Calculate DAC"
   ]
  },
  {
   "cell_type": "code",
   "execution_count": null,
   "id": "588c09e7-c94e-4537-998b-db5a4eb88b69",
   "metadata": {},
   "outputs": [],
   "source": [
    "currents, DAC = process_currents.process(\n",
    "    ds_adcp, gps_predive, gps_postdive, options\n",
    ")"
   ]
  },
  {
   "cell_type": "markdown",
   "id": "8860270f-bdc0-49fb-927d-df853f17a769",
   "metadata": {},
   "source": [
    "### Estimate and calculate shear bias\n",
    "\n",
    "This optional processing step attempts to correct for along-beam shear bias. Shear-bias is described in Todd et al. 2017 (JAOTECH, https://doi.org/10.1175/JTECH-D-16-0156.1), section \n",
    "    \"Shear-bias is the result of very small shear present in beams during individual pings. It is not yet known what causes it although reports from Nortek and others suggest an instrument dependence. It is also reduced with stricter signal-to-noise ratio thresholds. As shear is exagerated throughout the water-column, the error in velocity grows with the depth of the profile. It is generally visible as an erroneous supplement velocity component aligned with the glider's direction of travel\n"
   ]
  },
  {
   "cell_type": "code",
   "execution_count": null,
   "id": "0eb24fbe-1fac-4f82-858f-18999f240b7d",
   "metadata": {},
   "outputs": [],
   "source": [
    "currents = process_bias.process(currents, options)"
   ]
  },
  {
   "cell_type": "markdown",
   "id": "722b4b02-6c69-451d-a0ce-1e5a1d52cdb4",
   "metadata": {},
   "source": [
    "### Compare output\n",
    "\n",
    "The following three plots contrast the eastward velocities estimates at three crutical points of processing:\n",
    "\n",
    "1. From integration of shear\n",
    "2. After referencing integrated shear profiles to DAC\n",
    "3. After applying the shear bias correction to DAC referenced velocities\n"
   ]
  },
  {
   "cell_type": "code",
   "execution_count": null,
   "id": "d4687bb7-e870-4c48-b289-3389bab2844b",
   "metadata": {},
   "outputs": [],
   "source": [
    "variables = [\"velocity_E_no_reference\", \"velocity_E_DAC_reference\", \"velocity_E_DAC_reference_sb_corrected\"]\n",
    "titles = [\"No referencing\", \"DAC referencing\", \"DAC referencing, bias correction\"]\n",
    "fig, axs = plt.subplots(3, 1, figsize=(10,14))\n",
    "for i in range(3):\n",
    "    ax = axs[i]\n",
    "    mappable = ax.pcolormesh(currents.time[:-1], currents.depth, currents[variables[i]][:, :-1], cmap=cmo.balance, vmin=-0.6, vmax=0.6)\n",
    "    ax.invert_yaxis()\n",
    "    fig.colorbar(ax=ax,mappable=mappable, label='Eastward velocity (m/s)')\n",
    "    ax.set(ylabel='Depth (m)', title=titles[i])"
   ]
  },
  {
   "cell_type": "markdown",
   "id": "fe9e8aa6-cd3b-41ee-9483-09f928b6164c",
   "metadata": {},
   "source": [
    "### Write out data"
   ]
  },
  {
   "cell_type": "code",
   "execution_count": null,
   "id": "e94e3425-d27f-4dde-ad91-804158c94f60",
   "metadata": {},
   "outputs": [],
   "source": [
    "currents.to_netcdf(f\"data/{deployment_id}_gridded_with_adcp.nc\")"
   ]
  }
 ],
 "metadata": {
  "kernelspec": {
   "display_name": "Python 3 (ipykernel)",
   "language": "python",
   "name": "python3"
  },
  "language_info": {
   "codemirror_mode": {
    "name": "ipython",
    "version": 3
   },
   "file_extension": ".py",
   "mimetype": "text/x-python",
   "name": "python",
   "nbconvert_exporter": "python",
   "pygments_lexer": "ipython3",
   "version": "3.10.12"
  }
 },
 "nbformat": 4,
 "nbformat_minor": 5
}
